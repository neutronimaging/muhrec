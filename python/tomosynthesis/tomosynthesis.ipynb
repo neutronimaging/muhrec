{
 "cells": [
  {
   "cell_type": "code",
   "execution_count": null,
   "metadata": {},
   "outputs": [],
   "source": [
    "import astra\n",
    "import numpy as np\n",
    "import scipy.io \n",
    "import skimage.io as io\n",
    "import matplotlib.pyplot as plt\n",
    "\n",
    "%matplotlib inline"
   ]
  },
  {
   "cell_type": "markdown",
   "metadata": {},
   "source": [
    "Select if CUDA shall be used or not"
   ]
  },
  {
   "cell_type": "code",
   "execution_count": null,
   "metadata": {},
   "outputs": [],
   "source": [
    "def recon(sino,angles, Niterations=200,center=0,cuda=True) :\n",
    "    if cuda == True :\n",
    "        projstr='cuda'\n",
    "        cfgstr='SIRT_CUDA'\n",
    "    else :\n",
    "        projstr='strip'\n",
    "        cfgstr='SIRT'\n",
    "        \n",
    "    vol_geom = astra.create_vol_geom(sino.shape[1],sino.shape[1])\n",
    "    proj_geom = astra.create_proj_geom('parallel', 1, sino.shape[1], angles)\n",
    "    proj_geom_cor = astra.geom_postalignment(proj_geom,center)\n",
    "    sino_id = astra.data2d.link(\"-sino\",proj_geom_cor,sino) # share sinogram array with ASTRA\n",
    "    proj_id = astra.create_projector(projstr, proj_geom_cor, vol_geom)\n",
    "    # Create a data object for the reconstruction\n",
    "    rec_id = astra.data2d.create('-vol', vol_geom)\n",
    "    \n",
    "    cfg = astra.astra_dict(cfgstr)\n",
    "    cfg['ReconstructionDataId'] = rec_id\n",
    "    cfg['ProjectionDataId']     = sino_id\n",
    "    cfg['ProjectorId']          = proj_id\n",
    "    cfg['option'] = {}\n",
    "    cfg['option']['MinConstraint'] = 0.  # Force solution to be nonnegative.\n",
    "\n",
    "    # Create the algorithm object from the configuration structure\n",
    "    alg_id = astra.algorithm.create(cfg)\n",
    "    astra.algorithm.run(alg_id, Niterations)\n",
    "    \n",
    "    rec = astra.data2d.get(rec_id)\n",
    "    \n",
    "    return rec"
   ]
  },
  {
   "cell_type": "code",
   "execution_count": null,
   "metadata": {},
   "outputs": [],
   "source": [
    "def showRecon(sino,rec,l0=0,l1=0) :\n",
    "    plt.figure(figsize=[15,5])\n",
    "    \n",
    "    plt.subplot(1,3,1)\n",
    "    plt.imshow(sino,cmap='viridis')\n",
    "    plt.title(\"Sinogram\")\n",
    "    if (l0!=l1) :\n",
    "        plt.plot([0,sino.shape[1]-1],[l0,l0],'r')\n",
    "        plt.plot([0,sino.shape[1]-1],[l1,l1],'r')\n",
    "    plt.subplot(1,3,2)\n",
    "    plt.imshow(rec,cmap='viridis')\n",
    "    plt.title('Reconstruction')\n",
    "  #  plt.colorbar()\n",
    "    plt.subplot(1,3,3)\n",
    "    h,a=np.histogram(np.squeeze(rec),bins=100)\n",
    "    plt.plot(a[1:-1],h[1:])\n",
    "    plt.title('Histogram')"
   ]
  },
  {
   "cell_type": "code",
   "execution_count": null,
   "metadata": {},
   "outputs": [],
   "source": [
    "def normImage(img,ob,dc) :\n",
    "    ob2= ob-dc\n",
    "    ob2[ob2<=0] = 1\n",
    "    norm = (img - dc)/ob2\n",
    "    \n",
    "    return norm"
   ]
  },
  {
   "cell_type": "markdown",
   "metadata": {},
   "source": [
    "## Oblique projections (in-plane/through-plane)"
   ]
  },
  {
   "cell_type": "markdown",
   "metadata": {},
   "source": [
    "The reconstruction tests are centered around these two projections."
   ]
  },
  {
   "cell_type": "code",
   "execution_count": null,
   "metadata": {
    "jupyter": {
     "source_hidden": true
    }
   },
   "outputs": [],
   "source": [
    "ob = io.imread(\"../data/ob_0001.tif\")\n",
    "dc = io.imread(\"../data/dc_0001.tif\")\n",
    "pip = io.imread(\"../data/fctomo_0281.tif\")\n",
    "ptp = io.imread(\"../data/fctomo_0564.tif\")\n",
    "nip = normImage(pip,ob,dc)\n",
    "ntp = normImage(ptp,ob,dc)\n",
    "plt.figure(figsize=[15,6])\n",
    "plt.subplot(1,2,1)\n",
    "plt.imshow(nip, clim=[0,1.2])\n",
    "plt.plot([0,nip.shape[1]-1],[445,445],'r')\n",
    "plt.title('Inplane projection')\n",
    "plt.subplot(1,2,2)\n",
    "plt.imshow(ntp, clim=[0,1.2])\n",
    "plt.plot([0,nip.shape[1]-1],[445,445],'r');\n",
    "plt.title('Through plane projection');\n"
   ]
  },
  {
   "cell_type": "markdown",
   "metadata": {},
   "source": [
    "# Load sinogram"
   ]
  },
  {
   "cell_type": "markdown",
   "metadata": {},
   "source": [
    "The sinogram corresponds to line 445 of the projections"
   ]
  },
  {
   "cell_type": "code",
   "execution_count": null,
   "metadata": {},
   "outputs": [],
   "source": [
    "sino=io.imread(\"../data/FCSino_0445.tif\")\n",
    "plt.imshow(sino)\n",
    "angles = np.linspace(0,2*np.pi,sino.shape[0],False)"
   ]
  },
  {
   "cell_type": "markdown",
   "metadata": {},
   "source": [
    "## Reconstruction of full sinogram\n",
    "All lines in the sinogram are reconstructed as comparison for the following tests with missing wedge."
   ]
  },
  {
   "cell_type": "code",
   "execution_count": null,
   "metadata": {},
   "outputs": [],
   "source": [
    "rec=recon(sino,angles,center=-29)"
   ]
  },
  {
   "cell_type": "code",
   "execution_count": null,
   "metadata": {},
   "outputs": [],
   "source": [
    "showRecon(sino,rec)"
   ]
  },
  {
   "cell_type": "markdown",
   "metadata": {},
   "source": [
    "## Sinogram angles"
   ]
  },
  {
   "cell_type": "code",
   "execution_count": null,
   "metadata": {},
   "outputs": [],
   "source": [
    "center_ip = 281 # In-plane\n",
    "center_tp = 564 # Through plane\n",
    "dTheta    = 180*(angles[1]-angles[0])/np.pi # angle step in degrees\n",
    "wedge     = 15 # degrees"
   ]
  },
  {
   "cell_type": "code",
   "execution_count": null,
   "metadata": {},
   "outputs": [],
   "source": [
    "20/dTheta"
   ]
  },
  {
   "cell_type": "markdown",
   "metadata": {},
   "source": [
    "## Missing wedge tests in-plane\n",
    "The in-plane tests select a $\\pm$15 degrees wedge with membrane parallel to the beam."
   ]
  },
  {
   "cell_type": "code",
   "execution_count": null,
   "metadata": {},
   "outputs": [],
   "source": [
    "idxw  = np.ceil(wedge/dTheta).astype(int)\n",
    "sip   = sino[center_ip-idxw:center_ip+idxw,:]\n",
    "aip   = angles[center_ip-idxw:center_ip+idxw]\n",
    "plt.imshow(sip)"
   ]
  },
  {
   "cell_type": "code",
   "execution_count": null,
   "metadata": {},
   "outputs": [],
   "source": [
    "recip_sym=recon(sip,aip,center=-29)\n",
    "showRecon(sino,recip_sym,center_ip-idxw,center_ip+idxw)"
   ]
  },
  {
   "cell_type": "markdown",
   "metadata": {},
   "source": [
    "The in-plane test is able to identify planes parallel to the beam. The water droplet bundle is located but it is hard to separate the droplets from each other."
   ]
  },
  {
   "cell_type": "markdown",
   "metadata": {},
   "source": [
    "## Asymmetric wedge in-plane\n",
    "The in-plane tests select a $0$-30 degrees wedge with membrane parallel to the beam."
   ]
  },
  {
   "cell_type": "code",
   "execution_count": null,
   "metadata": {},
   "outputs": [],
   "source": [
    "idxw  = np.ceil(wedge/dTheta).astype(int)\n",
    "sip   = sino[center_ip:center_ip+2*idxw,:]\n",
    "aip   = angles[center_ip:center_ip+2*idxw]\n",
    "plt.imshow(sip)"
   ]
  },
  {
   "cell_type": "code",
   "execution_count": null,
   "metadata": {},
   "outputs": [],
   "source": [
    "recip_asym=recon(sip,aip,center=-29)\n",
    "showRecon(sino,recip_asym,center_tp,center_tp+2*idxw)"
   ]
  },
  {
   "cell_type": "markdown",
   "metadata": {},
   "source": [
    "On first sight, there is a better separation beween the droplets with the asymmetric wedge. This is because there is greater tilt of the sample in one direction that allows the view between the droplets."
   ]
  },
  {
   "cell_type": "markdown",
   "metadata": {},
   "source": [
    "### Comparison in-plane close-up"
   ]
  },
  {
   "cell_type": "code",
   "execution_count": null,
   "metadata": {},
   "outputs": [],
   "source": [
    "roi=[1000,1200,1200,1700]\n",
    "plt.figure(figsize=[12,4])\n",
    "plt.subplot(1,3,1)\n",
    "plt.imshow(rec[roi[0]:roi[1],roi[2]:roi[3]])\n",
    "plt.title(\"Full reconstruction\")\n",
    "plt.subplot(1,3,2)\n",
    "plt.imshow(recip_sym[roi[0]:roi[1],roi[2]:roi[3]])\n",
    "plt.title(\"$\\pm${0} deg wedge reconstruction\".format(wedge))\n",
    "\n",
    "plt.subplot(1,3,3)\n",
    "plt.imshow(recip_asym[roi[0]:roi[1],roi[2]:roi[3]])\n",
    "plt.title(\"0-{0} deg wedge reconstruction\".format(2*wedge))"
   ]
  },
  {
   "cell_type": "markdown",
   "metadata": {},
   "source": [
    "# Missing wedge test through plane\n",
    "In this test the central beam is perpendicular to the membrane. The selected wedge is again $\\pm$15 degrees from the perpendicular beam."
   ]
  },
  {
   "cell_type": "code",
   "execution_count": null,
   "metadata": {},
   "outputs": [],
   "source": [
    "idxw  = np.ceil(wedge/dTheta).astype(int)\n",
    "stp   = sino[center_tp-idxw:center_tp+idxw,:]\n",
    "atp   = angles[center_tp-idxw:center_tp+idxw]\n",
    "plt.imshow(stp)"
   ]
  },
  {
   "cell_type": "markdown",
   "metadata": {},
   "source": [
    "## Reconstruction of through plane wedge"
   ]
  },
  {
   "cell_type": "code",
   "execution_count": null,
   "metadata": {},
   "outputs": [],
   "source": [
    "rectp_sym=recon(stp,atp,center=-29)\n",
    "showRecon(sino,rectp_sym,center_tp-idxw,center_tp+idxw)"
   ]
  },
  {
   "cell_type": "markdown",
   "metadata": {},
   "source": [
    "## Asymmetric wedge through plane"
   ]
  },
  {
   "cell_type": "code",
   "execution_count": null,
   "metadata": {},
   "outputs": [],
   "source": [
    "idxw  = np.ceil(wedge/dTheta).astype(int)\n",
    "stp   = sino[center_tp:center_tp+2*idxw,:]\n",
    "atp   = angles[center_tp:center_tp+2*idxw]\n",
    "plt.imshow(stp)"
   ]
  },
  {
   "cell_type": "code",
   "execution_count": null,
   "metadata": {},
   "outputs": [],
   "source": [
    "rectp_asym=recon(stp,atp,center=-29)\n",
    "showRecon(sino,rectp_asym,center_tp-idxw,center_tp+idxw)"
   ]
  },
  {
   "cell_type": "code",
   "execution_count": null,
   "metadata": {},
   "outputs": [],
   "source": [
    "roi=[1000,1200,1200,1700]\n",
    "plt.figure(figsize=[12,4])\n",
    "plt.subplot(1,3,1)\n",
    "plt.imshow(rec[roi[0]:roi[1],roi[2]:roi[3]])\n",
    "plt.title(\"Full reconstruction\")\n",
    "plt.subplot(1,3,2)\n",
    "plt.imshow(rectp_sym[roi[0]:roi[1],roi[2]:roi[3]])\n",
    "plt.title(\"$\\pm${0} deg wedge reconstruction\".format(wedge))\n",
    "\n",
    "plt.subplot(1,3,3)\n",
    "plt.imshow(rectp_asym[roi[0]:roi[1],roi[2]:roi[3]])\n",
    "plt.title(\"0-{0} deg wedge reconstruction\".format(2*wedge))"
   ]
  },
  {
   "cell_type": "code",
   "execution_count": null,
   "metadata": {},
   "outputs": [],
   "source": [
    "plt.figure(figsize=[12,8])\n",
    "plt.subplot(1,3,1)\n",
    "plt.imshow(rectp_sym)\n",
    "plt.title('Through-plane missing wedge $\\pm${0}'.format(wedge))\n",
    "\n",
    "plt.subplot(1,3,2)\n",
    "plt.imshow(rec)\n",
    "plt.title('Full reconstruction')\n",
    "\n",
    "plt.subplot(1,3,3)\n",
    "plt.imshow(recip_sym)\n",
    "plt.title('In-plane missing wedge $\\pm${0}'.format(wedge))\n",
    "\n"
   ]
  },
  {
   "cell_type": "code",
   "execution_count": null,
   "metadata": {},
   "outputs": [],
   "source": []
  }
 ],
 "metadata": {
  "kernelspec": {
   "display_name": "Python 3",
   "language": "python",
   "name": "python3"
  },
  "language_info": {
   "codemirror_mode": {
    "name": "ipython",
    "version": 3
   },
   "file_extension": ".py",
   "mimetype": "text/x-python",
   "name": "python",
   "nbconvert_exporter": "python",
   "pygments_lexer": "ipython3",
   "version": "3.6.9"
  }
 },
 "nbformat": 4,
 "nbformat_minor": 4
}
