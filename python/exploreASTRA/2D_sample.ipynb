{
 "cells": [
  {
   "cell_type": "code",
   "execution_count": null,
   "metadata": {},
   "outputs": [],
   "source": [
    "import astra\n",
    "import numpy as np\n",
    "import scipy.io \n",
    "import skimage.io as io\n",
    "import matplotlib.pyplot as plt\n",
    "\n",
    "%matplotlib inline"
   ]
  },
  {
   "cell_type": "code",
   "execution_count": null,
   "metadata": {},
   "outputs": [],
   "source": [
    "cuda=True\n",
    "\n",
    "if cuda == True :\n",
    "    projstr='cuda'\n",
    "    cfgstr='SIRT_CUDA'\n",
    "else :\n",
    "    projstr='strip'\n",
    "    cfgstr='SIRT'\n",
    "    \n",
    "angles = np.linspace(0,np.pi,180,False)\n",
    "\n",
    "vol_geom = astra.create_vol_geom(256, 256)\n",
    "proj_geom = astra.create_proj_geom('parallel', 1.0, 384, angles)"
   ]
  },
  {
   "cell_type": "code",
   "execution_count": null,
   "metadata": {},
   "outputs": [],
   "source": [
    "# For CPU-based algorithms, a \"projector\" object specifies the projection\n",
    "# model used. In this case, we use the \"strip\" model.\n",
    "proj_id = astra.create_projector(projstr, proj_geom, vol_geom)"
   ]
  },
  {
   "cell_type": "code",
   "execution_count": null,
   "metadata": {},
   "outputs": [],
   "source": [
    "# Create a sinogram from a phantom\n",
    "import scipy.io\n",
    "P = scipy.io.loadmat('../data/phantom.mat')['phantom256']\n",
    "P = P + np.random.normal(0,0.1,size=P.shape)\n",
    "plt.imshow(P)\n",
    "plt.title('Shepp-Logan phantom')\n",
    "plt.show()"
   ]
  },
  {
   "cell_type": "code",
   "execution_count": null,
   "metadata": {},
   "outputs": [],
   "source": [
    "sinogram_id, sinogram = astra.create_sino(P, proj_id)"
   ]
  },
  {
   "cell_type": "code",
   "execution_count": null,
   "metadata": {},
   "outputs": [],
   "source": [
    "plt.imshow(sinogram)\n",
    "plt.title('Sinogram')\n",
    "plt.show()"
   ]
  },
  {
   "cell_type": "code",
   "execution_count": null,
   "metadata": {},
   "outputs": [],
   "source": [
    "# Create a data object for the reconstruction\n",
    "rec_id = astra.data2d.create('-vol', vol_geom)\n",
    "proj_id = astra.create_projector('strip', proj_geom, vol_geom)\n",
    "# Set up the parameters for a reconstruction algorithm using the CPU\n",
    "# The main difference with the configuration of a GPU algorithm is the\n",
    "# extra ProjectorId setting.\n",
    "cfg = astra.astra_dict(cfgstr)\n",
    "cfg['ReconstructionDataId'] = rec_id\n",
    "cfg['ProjectionDataId'] = sinogram_id\n",
    "cfg['ProjectorId'] = proj_id\n",
    "\n",
    "# Available algorithms:\n",
    "# ART, SART, SIRT, CGLS, FBP"
   ]
  },
  {
   "cell_type": "code",
   "execution_count": null,
   "metadata": {},
   "outputs": [],
   "source": [
    "# Create the algorithm object from the configuration structure\n",
    "alg_id = astra.algorithm.create(cfg)\n",
    "\n",
    "# Run 20 iterations of the algorithm\n",
    "# This will have a runtime in the order of 10 seconds.\n",
    "astra.algorithm.run(alg_id, 200)"
   ]
  },
  {
   "cell_type": "code",
   "execution_count": null,
   "metadata": {},
   "outputs": [],
   "source": [
    "# Get the result\n",
    "rec = astra.data2d.get(rec_id)\n",
    "\n",
    "plt.imshow(rec)\n",
    "plt.title('Reconstruction')\n",
    "plt.show()\n",
    "print(rec.min(),rec.max())"
   ]
  },
  {
   "cell_type": "code",
   "execution_count": null,
   "metadata": {},
   "outputs": [],
   "source": [
    "# Clean up.\n",
    "astra.algorithm.delete(alg_id)\n",
    "astra.data2d.delete(rec_id)\n",
    "astra.data2d.delete(sinogram_id)\n",
    "astra.projector.delete(proj_id)"
   ]
  },
  {
   "cell_type": "markdown",
   "metadata": {},
   "source": [
    "# Real data tests"
   ]
  },
  {
   "cell_type": "markdown",
   "metadata": {},
   "source": [
    "Select if CUDA shall be used or not"
   ]
  },
  {
   "cell_type": "code",
   "execution_count": null,
   "metadata": {},
   "outputs": [],
   "source": [
    "cuda=True\n",
    "\n",
    "if cuda == True :\n",
    "    projstr='cuda'\n",
    "    cfgstr='SIRT_CUDA'\n",
    "else :\n",
    "    projstr='strip'\n",
    "    cfgstr='SIRT'"
   ]
  },
  {
   "cell_type": "markdown",
   "metadata": {},
   "source": [
    "Load sinogram"
   ]
  },
  {
   "cell_type": "code",
   "execution_count": null,
   "metadata": {},
   "outputs": [],
   "source": [
    "sino=io.imread(\"../data/woodsino_0200.tif\")\n",
    "plt.imshow(sino)\n",
    "sino.shape\n"
   ]
  },
  {
   "cell_type": "code",
   "execution_count": null,
   "metadata": {},
   "outputs": [],
   "source": [
    "angles = np.linspace(0,2*np.pi,sino.shape[0],False)\n",
    "\n",
    "vol_geom = astra.create_vol_geom(sino.shape[1],sino.shape[1])\n",
    "proj_geom = astra.create_proj_geom('parallel', 1, sino.shape[1], angles)"
   ]
  },
  {
   "cell_type": "markdown",
   "metadata": {},
   "source": [
    "Center-of-rotation correction (by -29 pixels horizontally)"
   ]
  },
  {
   "cell_type": "code",
   "execution_count": null,
   "metadata": {},
   "outputs": [],
   "source": [
    "proj_geom_cor = astra.geom_postalignment(proj_geom,-29)\n",
    "#proj_geom_cor = proj_geom"
   ]
  },
  {
   "cell_type": "code",
   "execution_count": null,
   "metadata": {},
   "outputs": [],
   "source": [
    "sino_id = astra.data2d.link(\"-sino\",proj_geom_cor,sino) # share sinogram array with ASTRA\n",
    "proj_id = astra.create_projector(projstr, proj_geom_cor, vol_geom)\n",
    "# Create a data object for the reconstruction\n",
    "rec_id = astra.data2d.create('-vol', vol_geom)"
   ]
  },
  {
   "cell_type": "markdown",
   "metadata": {},
   "source": [
    "Set up the parameters for a reconstruction algorithm using the CPU. The main difference with the configuration of a GPU algorithm is the\n",
    "extra ProjectorId setting."
   ]
  },
  {
   "cell_type": "code",
   "execution_count": null,
   "metadata": {},
   "outputs": [],
   "source": [
    "\n",
    "cfg = astra.astra_dict(cfgstr)\n",
    "cfg['ReconstructionDataId'] = rec_id\n",
    "cfg['ProjectionDataId']     = sino_id\n",
    "cfg['ProjectorId']          = proj_id\n",
    "cfg['option'] = {}\n",
    "cfg['option']['MinConstraint'] = 0.  # Force solution to be nonnegative.\n",
    "\n",
    "# Create the algorithm object from the configuration structure\n",
    "alg_id = astra.algorithm.create(cfg)"
   ]
  },
  {
   "cell_type": "markdown",
   "metadata": {},
   "source": [
    "Run N iterations of the algorithm\n",
    "This will have a runtime in the order of less than a second on a decent GPU. Or many minutes on a CPU."
   ]
  },
  {
   "cell_type": "code",
   "execution_count": null,
   "metadata": {},
   "outputs": [],
   "source": [
    "astra.algorithm.run(alg_id, 200)"
   ]
  },
  {
   "cell_type": "markdown",
   "metadata": {},
   "source": [
    "Get the result and show the slice"
   ]
  },
  {
   "cell_type": "code",
   "execution_count": null,
   "metadata": {},
   "outputs": [],
   "source": [
    "rec = astra.data2d.get(rec_id)\n",
    "plt.figure(figsize=[15,6])\n",
    "plt.subplot(1,2,1)\n",
    "plt.imshow(rec,cmap='viridis')\n",
    "plt.title('Reconstruction')\n",
    "plt.colorbar()\n",
    "plt.subplot(1,2,2)\n",
    "h,a=np.histogram(np.squeeze(rec),bins=100)\n",
    "plt.plot(a[1:-1],h[1:])"
   ]
  },
  {
   "cell_type": "code",
   "execution_count": null,
   "metadata": {},
   "outputs": [],
   "source": []
  },
  {
   "cell_type": "code",
   "execution_count": null,
   "metadata": {},
   "outputs": [],
   "source": []
  }
 ],
 "metadata": {
  "kernelspec": {
   "display_name": "Python 3",
   "language": "python",
   "name": "python3"
  },
  "language_info": {
   "codemirror_mode": {
    "name": "ipython",
    "version": 3
   },
   "file_extension": ".py",
   "mimetype": "text/x-python",
   "name": "python",
   "nbconvert_exporter": "python",
   "pygments_lexer": "ipython3",
   "version": "3.6.9"
  }
 },
 "nbformat": 4,
 "nbformat_minor": 4
}
